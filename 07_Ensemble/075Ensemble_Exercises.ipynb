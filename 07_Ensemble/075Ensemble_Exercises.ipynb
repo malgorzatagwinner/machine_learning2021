{
 "cells": [
  {
   "cell_type": "markdown",
   "metadata": {},
   "source": [
    "# Ensemble methods. Exercises\n",
    "\n",
    "\n",
    "In this section we have only two exercise:\n",
    "\n",
    "1. Find the best three classifier in the stacking method using the classifiers from scikit-learn package.\n",
    "\n",
    "2. Build arcing arc-x4 method. "
   ]
  },
  {
   "cell_type": "code",
   "execution_count": 27,
   "metadata": {},
   "outputs": [],
   "source": [
    "%store -r data_set\n",
    "%store -r labels\n",
    "%store -r test_data_set\n",
    "%store -r test_labels\n",
    "%store -r unique_labels"
   ]
  },
  {
   "cell_type": "markdown",
   "metadata": {},
   "source": [
    "## Exercise 1: Find the best three classifier in the stacking method\n",
    "\n",
    "Please use the following classifiers:\n",
    "\n",
    "* Linear regression,\n",
    "* Nearest Neighbors,\n",
    "* Linear SVM,\n",
    "* Decision Tree,\n",
    "* Naive Bayes,\n",
    "* QDA."
   ]
  },
  {
   "cell_type": "code",
   "execution_count": 28,
   "metadata": {},
   "outputs": [],
   "source": [
    "import numpy as np\n",
    "from sklearn.metrics import accuracy_score\n",
    "\n",
    "from sklearn.linear_model import LinearRegression\n",
    "from sklearn.neighbors import KNeighborsClassifier\n",
    "from sklearn.svm import SVC\n",
    "from sklearn.tree import DecisionTreeClassifier\n",
    "from sklearn.naive_bayes import GaussianNB\n",
    "from sklearn.discriminant_analysis import QuadraticDiscriminantAnalysis"
   ]
  },
  {
   "cell_type": "code",
   "execution_count": 29,
   "metadata": {},
   "outputs": [],
   "source": [
    "def build_classifiers():\n",
    "    \n",
    "    # fill this part\n",
    "    classifiers = [\n",
    "        ('linear_regression', LinearRegression()),\n",
    "        ('neighbors', KNeighborsClassifier()),\n",
    "        ('svm', SVC()),\n",
    "        ('tree', DecisionTreeClassifier()),\n",
    "        ('naive_bayes', GaussianNB()),\n",
    "        ('qda', QuadraticDiscriminantAnalysis()),\n",
    "    ]\n",
    "    \n",
    "    for clf in classifiers:\n",
    "        clf[1].fit(data_set, labels)\n",
    "        \n",
    "    return classifiers"
   ]
  },
  {
   "cell_type": "code",
   "execution_count": 30,
   "metadata": {},
   "outputs": [],
   "source": [
    "def build_stacked_classifier(classifiers):\n",
    "    output = []\n",
    "    for classifier in classifiers:\n",
    "        output.append(classifier.predict(data_set))\n",
    "    output = np.array(output).reshape((130,3))\n",
    "    \n",
    "    # stacked classifier part:\n",
    "    stacked_classifier = DecisionTreeClassifier() # set here\n",
    "    stacked_classifier.fit(output.reshape((130,3)), labels.reshape((130,)))\n",
    "    test_set = []\n",
    "    for classifier in classifiers:\n",
    "        test_set.append(classifier.predict(test_data_set))\n",
    "    test_set = np.array(test_set).reshape((len(test_set[0]),3))\n",
    "    predicted = stacked_classifier.predict(test_set)\n",
    "    return predicted"
   ]
  },
  {
   "cell_type": "code",
   "execution_count": 31,
   "metadata": {},
   "outputs": [],
   "source": [
    "from itertools import permutations\n",
    "from operator import itemgetter"
   ]
  },
  {
   "cell_type": "code",
   "execution_count": 32,
   "metadata": {},
   "outputs": [
    {
     "name": "stderr",
     "output_type": "stream",
     "text": [
      "/home/gosia/miniconda3/envs/datascience/lib/python3.6/site-packages/sklearn/svm/base.py:193: FutureWarning: The default value of gamma will change from 'auto' to 'scale' in version 0.22 to account better for unscaled features. Set gamma explicitly to 'auto' or 'scale' to avoid this warning.\n",
      "  \"avoid this warning.\", FutureWarning)\n"
     ]
    },
    {
     "name": "stdout",
     "output_type": "stream",
     "text": [
      "0.95: svm > tree > qda\n",
      "0.95: tree > neighbors > qda\n",
      "0.90: neighbors > tree > qda\n",
      "0.90: neighbors > qda > tree\n",
      "0.90: svm > neighbors > qda\n",
      "0.90: tree > svm > qda\n",
      "0.90: naive_bayes > neighbors > tree\n",
      "0.90: naive_bayes > neighbors > qda\n",
      "0.90: qda > neighbors > tree\n",
      "0.85: neighbors > svm > tree\n"
     ]
    }
   ],
   "source": [
    "classifiers = build_classifiers()\n",
    "options = []\n",
    "for prmt in permutations(classifiers, r=3):\n",
    "    predicted = build_stacked_classifier([x[1] for x in prmt])\n",
    "    accuracy = accuracy_score(test_labels, predicted)\n",
    "    options.append((accuracy, ' > '.join([x[0] for x in prmt])))\n",
    "\n",
    "options.sort(key=itemgetter(0), reverse=True)\n",
    "for best in options[:10]:\n",
    "    print(f'{best[0]:1.2f}: {best[1]}')"
   ]
  },
  {
   "cell_type": "markdown",
   "metadata": {},
   "source": [
    "## Exercise 2: \n",
    "\n",
    "Use the boosting method and change the code to fullfilt the following requirements:\n",
    "\n",
    "* the weights should be calculated as:\n",
    "$w_{n}^{(t+1)}=\\frac{1+ I(y_{n}\\neq h_{t}(x_{n})}{\\sum_{i=1}^{N}1+I(y_{n}\\neq h_{t}(x_{n})}$,\n",
    "* the prediction is done with a voting method."
   ]
  },
  {
   "cell_type": "code",
   "execution_count": 33,
   "metadata": {},
   "outputs": [],
   "source": [
    "import numpy as np\n",
    "from sklearn.tree import DecisionTreeClassifier\n",
    "\n",
    "# prepare data set\n",
    "\n",
    "def generate_data(sample_number, feature_number, label_number):\n",
    "    data_set = np.random.random_sample((sample_number, feature_number))\n",
    "    labels = np.random.choice(label_number, sample_number)\n",
    "    return data_set, labels\n",
    "\n",
    "labels = 2\n",
    "dimension = 2\n",
    "test_set_size = 1000\n",
    "train_set_size = 5000\n",
    "train_set, train_labels = generate_data(train_set_size, dimension, labels)\n",
    "test_set, test_labels = generate_data(test_set_size, dimension, labels)\n",
    "\n",
    "# init weights\n",
    "number_of_iterations = 10\n",
    "weights = np.ones((test_set_size,)) / test_set_size\n",
    "\n",
    "\n",
    "def train_model(classifier, weights):\n",
    "    return classifier.fit(X=test_set, y=test_labels, sample_weight=weights)\n",
    "\n",
    "def calculate_error(model):\n",
    "    predicted = model.predict(test_set)\n",
    "    I=calculate_accuracy_vector(predicted, test_labels)\n",
    "    Z=np.sum(I)\n",
    "    return (1+Z)/1.0\n",
    "\n",
    "def calculate_accuracy_vector(predicted, labels):\n",
    "    result = []\n",
    "    for i in range(len(predicted)):\n",
    "        if predicted[i] == labels[i]:\n",
    "            result.append(0)\n",
    "        else:\n",
    "            result.append(1)\n",
    "    return result\n"
   ]
  },
  {
   "cell_type": "markdown",
   "metadata": {},
   "source": [
    "Fill the two functions below:"
   ]
  },
  {
   "cell_type": "code",
   "execution_count": 34,
   "metadata": {},
   "outputs": [],
   "source": [
    "def set_new_weights(model):\n",
    "    # fill the code here (two lines)\n",
    "    W = np.array(calculate_accuracy_vector(model.predict(test_set), test_labels))\n",
    "    return (W + 1) / W.sum()"
   ]
  },
  {
   "cell_type": "markdown",
   "metadata": {},
   "source": [
    "Train the classifier with the code below:"
   ]
  },
  {
   "cell_type": "code",
   "execution_count": 35,
   "metadata": {},
   "outputs": [
    {
     "name": "stdout",
     "output_type": "stream",
     "text": [
      "[0.002 0.002 0.004 0.002 0.002 0.004 0.002 0.002 0.004 0.002 0.004 0.002\n",
      " 0.004 0.004 0.002 0.004 0.004 0.004 0.004 0.004 0.004 0.004 0.004 0.002\n",
      " 0.002 0.002 0.004 0.002 0.002 0.004 0.002 0.004 0.004 0.002 0.002 0.002\n",
      " 0.002 0.004 0.004 0.002 0.002 0.004 0.002 0.004 0.004 0.004 0.004 0.004\n",
      " 0.004 0.004 0.002 0.002 0.002 0.002 0.002 0.002 0.002 0.004 0.004 0.002\n",
      " 0.004 0.002 0.004 0.004 0.004 0.002 0.002 0.002 0.004 0.004 0.004 0.002\n",
      " 0.002 0.002 0.004 0.004 0.002 0.002 0.004 0.004 0.004 0.004 0.002 0.002\n",
      " 0.004 0.002 0.004 0.004 0.002 0.004 0.004 0.004 0.004 0.004 0.002 0.004\n",
      " 0.004 0.002 0.002 0.002 0.004 0.002 0.002 0.002 0.004 0.002 0.002 0.004\n",
      " 0.004 0.004 0.002 0.002 0.004 0.002 0.002 0.002 0.004 0.004 0.002 0.002\n",
      " 0.002 0.004 0.002 0.002 0.004 0.004 0.004 0.004 0.002 0.002 0.002 0.002\n",
      " 0.004 0.002 0.002 0.002 0.004 0.002 0.002 0.002 0.004 0.004 0.002 0.002\n",
      " 0.004 0.004 0.004 0.004 0.004 0.002 0.004 0.004 0.002 0.002 0.002 0.004\n",
      " 0.004 0.002 0.004 0.004 0.002 0.004 0.004 0.004 0.004 0.004 0.002 0.002\n",
      " 0.004 0.002 0.002 0.002 0.002 0.004 0.002 0.002 0.002 0.002 0.004 0.004\n",
      " 0.004 0.002 0.002 0.002 0.004 0.002 0.002 0.004 0.002 0.004 0.004 0.002\n",
      " 0.002 0.004 0.004 0.002 0.004 0.002 0.004 0.002 0.004 0.004 0.004 0.002\n",
      " 0.002 0.002 0.004 0.004 0.002 0.004 0.004 0.002 0.002 0.002 0.004 0.002\n",
      " 0.002 0.002 0.002 0.004 0.004 0.002 0.004 0.004 0.002 0.004 0.004 0.004\n",
      " 0.002 0.002 0.004 0.002 0.002 0.002 0.004 0.002 0.004 0.002 0.002 0.002\n",
      " 0.004 0.004 0.004 0.002 0.002 0.004 0.004 0.002 0.004 0.002 0.002 0.004\n",
      " 0.004 0.002 0.004 0.004 0.002 0.002 0.004 0.004 0.002 0.002 0.004 0.004\n",
      " 0.004 0.002 0.004 0.002 0.004 0.004 0.002 0.002 0.002 0.002 0.002 0.004\n",
      " 0.004 0.004 0.004 0.002 0.004 0.004 0.002 0.002 0.004 0.002 0.004 0.004\n",
      " 0.004 0.004 0.004 0.004 0.004 0.002 0.004 0.004 0.002 0.004 0.004 0.004\n",
      " 0.004 0.002 0.002 0.002 0.002 0.002 0.004 0.004 0.002 0.002 0.004 0.004\n",
      " 0.004 0.002 0.002 0.002 0.002 0.004 0.004 0.002 0.002 0.004 0.002 0.004\n",
      " 0.004 0.002 0.004 0.004 0.002 0.004 0.002 0.002 0.002 0.004 0.004 0.002\n",
      " 0.002 0.004 0.004 0.002 0.002 0.002 0.002 0.004 0.004 0.004 0.004 0.002\n",
      " 0.004 0.004 0.004 0.002 0.004 0.002 0.002 0.004 0.004 0.004 0.004 0.004\n",
      " 0.004 0.002 0.002 0.004 0.002 0.002 0.004 0.004 0.002 0.002 0.004 0.004\n",
      " 0.004 0.002 0.002 0.002 0.004 0.004 0.004 0.002 0.004 0.004 0.004 0.004\n",
      " 0.004 0.004 0.002 0.002 0.004 0.004 0.004 0.004 0.002 0.004 0.002 0.002\n",
      " 0.002 0.004 0.004 0.002 0.002 0.002 0.004 0.002 0.002 0.004 0.002 0.002\n",
      " 0.004 0.002 0.002 0.004 0.002 0.004 0.002 0.004 0.002 0.004 0.004 0.002\n",
      " 0.002 0.002 0.004 0.004 0.004 0.004 0.004 0.004 0.002 0.004 0.004 0.004\n",
      " 0.002 0.004 0.002 0.004 0.004 0.002 0.002 0.004 0.002 0.002 0.002 0.004\n",
      " 0.002 0.004 0.004 0.002 0.004 0.004 0.004 0.002 0.002 0.004 0.002 0.002\n",
      " 0.002 0.004 0.002 0.002 0.002 0.002 0.002 0.002 0.004 0.004 0.002 0.004\n",
      " 0.002 0.004 0.002 0.004 0.002 0.002 0.004 0.002 0.002 0.002 0.002 0.002\n",
      " 0.004 0.004 0.002 0.002 0.004 0.004 0.004 0.004 0.002 0.004 0.004 0.002\n",
      " 0.002 0.002 0.002 0.004 0.004 0.004 0.004 0.002 0.004 0.004 0.002 0.002\n",
      " 0.002 0.004 0.004 0.004 0.004 0.004 0.002 0.004 0.004 0.004 0.002 0.004\n",
      " 0.004 0.002 0.002 0.002 0.002 0.002 0.002 0.004 0.004 0.004 0.004 0.002\n",
      " 0.002 0.002 0.004 0.002 0.002 0.004 0.004 0.002 0.002 0.004 0.004 0.002\n",
      " 0.002 0.002 0.002 0.004 0.002 0.002 0.002 0.004 0.002 0.004 0.002 0.004\n",
      " 0.004 0.002 0.002 0.004 0.004 0.002 0.004 0.004 0.002 0.002 0.002 0.002\n",
      " 0.002 0.002 0.002 0.004 0.004 0.002 0.002 0.004 0.002 0.004 0.004 0.004\n",
      " 0.004 0.002 0.002 0.002 0.002 0.004 0.004 0.002 0.004 0.002 0.002 0.004\n",
      " 0.002 0.004 0.002 0.004 0.004 0.004 0.004 0.004 0.002 0.002 0.002 0.004\n",
      " 0.002 0.002 0.002 0.002 0.004 0.002 0.002 0.004 0.002 0.002 0.002 0.002\n",
      " 0.004 0.004 0.002 0.004 0.002 0.002 0.002 0.002 0.002 0.004 0.004 0.004\n",
      " 0.004 0.004 0.004 0.002 0.004 0.004 0.004 0.002 0.002 0.004 0.002 0.004\n",
      " 0.002 0.002 0.004 0.002 0.004 0.004 0.002 0.004 0.002 0.002 0.002 0.002\n",
      " 0.004 0.002 0.004 0.002 0.004 0.002 0.002 0.004 0.002 0.002 0.002 0.002\n",
      " 0.004 0.002 0.002 0.002 0.004 0.004 0.004 0.002 0.004 0.002 0.002 0.002\n",
      " 0.004 0.004 0.002 0.004 0.002 0.004 0.002 0.002 0.004 0.002 0.004 0.004\n",
      " 0.002 0.002 0.002 0.004 0.002 0.004 0.002 0.004 0.002 0.002 0.002 0.004\n",
      " 0.004 0.002 0.002 0.002 0.004 0.004 0.004 0.004 0.004 0.004 0.004 0.002\n",
      " 0.004 0.002 0.002 0.004 0.004 0.004 0.002 0.004 0.004 0.004 0.002 0.004\n",
      " 0.002 0.004 0.002 0.004 0.004 0.002 0.002 0.004 0.002 0.002 0.002 0.002\n",
      " 0.004 0.002 0.002 0.004 0.004 0.002 0.002 0.004 0.004 0.004 0.004 0.002\n",
      " 0.002 0.002 0.004 0.002 0.004 0.004 0.002 0.002 0.002 0.002 0.004 0.004\n",
      " 0.002 0.002 0.004 0.004 0.004 0.002 0.004 0.004 0.002 0.004 0.004 0.004\n",
      " 0.002 0.004 0.004 0.004 0.004 0.004 0.002 0.004 0.004 0.002 0.004 0.002\n",
      " 0.004 0.002 0.004 0.002 0.002 0.004 0.002 0.004 0.002 0.002 0.004 0.002\n",
      " 0.004 0.004 0.002 0.004 0.004 0.002 0.004 0.002 0.002 0.002 0.004 0.004\n",
      " 0.002 0.002 0.002 0.002 0.002 0.004 0.002 0.002 0.002 0.002 0.004 0.004\n",
      " 0.004 0.002 0.004 0.004 0.004 0.004 0.004 0.004 0.002 0.002 0.004 0.004\n",
      " 0.004 0.004 0.004 0.004 0.004 0.002 0.004 0.004 0.004 0.004 0.002 0.004\n",
      " 0.002 0.004 0.004 0.002 0.002 0.002 0.002 0.004 0.004 0.004 0.002 0.002\n",
      " 0.002 0.002 0.002 0.004 0.002 0.002 0.004 0.002 0.004 0.002 0.004 0.004\n",
      " 0.004 0.004 0.004 0.002 0.002 0.004 0.004 0.004 0.004 0.002 0.004 0.004\n",
      " 0.004 0.004 0.004 0.004 0.002 0.002 0.002 0.002 0.002 0.004 0.004 0.004\n",
      " 0.002 0.002 0.002 0.004 0.002 0.002 0.002 0.002 0.002 0.004 0.004 0.004\n",
      " 0.002 0.002 0.002 0.004 0.004 0.004 0.004 0.004 0.002 0.002 0.002 0.002\n",
      " 0.002 0.004 0.002 0.002 0.004 0.004 0.002 0.004 0.002 0.004 0.004 0.002\n",
      " 0.004 0.004 0.002 0.004 0.004 0.004 0.002 0.004 0.002 0.002 0.004 0.002\n",
      " 0.002 0.004 0.002 0.004 0.002 0.004 0.004 0.004 0.002 0.002 0.004 0.002\n",
      " 0.002 0.004 0.002 0.002 0.002 0.004 0.002 0.002 0.004 0.002 0.004 0.004\n",
      " 0.004 0.002 0.002 0.002 0.004 0.004 0.002 0.004 0.004 0.002 0.004 0.002\n",
      " 0.004 0.002 0.002 0.002 0.002 0.004 0.002 0.002 0.004 0.004 0.002 0.002\n",
      " 0.002 0.004 0.002 0.004 0.002 0.002 0.002 0.002 0.002 0.002 0.004 0.004\n",
      " 0.002 0.004 0.004 0.002]\n"
     ]
    }
   ],
   "source": [
    "classifier = DecisionTreeClassifier(max_depth=1, random_state=1)\n",
    "classifier.fit(X=train_set, y=train_labels)\n",
    "alphas = []\n",
    "classifiers = []\n",
    "for iteration in range(number_of_iterations):\n",
    "    model = train_model(classifier, weights)\n",
    "    weights = set_new_weights(model)\n",
    "    classifiers.append(model)\n",
    "\n",
    "print(weights)\n",
    "\n",
    "\n",
    "validate_x, validate_label = generate_data(1, dimension, labels)"
   ]
  },
  {
   "cell_type": "markdown",
   "metadata": {},
   "source": [
    "Set the validation data set:"
   ]
  },
  {
   "cell_type": "code",
   "execution_count": 36,
   "metadata": {},
   "outputs": [],
   "source": [
    "validate_x, validate_label = generate_data(1, dimension, labels)"
   ]
  },
  {
   "cell_type": "markdown",
   "metadata": {},
   "source": [
    "Fill the prediction code:"
   ]
  },
  {
   "cell_type": "code",
   "execution_count": 37,
   "metadata": {},
   "outputs": [],
   "source": [
    "def get_prediction(x):\n",
    "    # fill the code here (5-6 lines)\n",
    "    return classifiers[-1].predict(x)"
   ]
  },
  {
   "cell_type": "markdown",
   "metadata": {},
   "source": [
    "Test it:"
   ]
  },
  {
   "cell_type": "code",
   "execution_count": 38,
   "metadata": {},
   "outputs": [
    {
     "name": "stdout",
     "output_type": "stream",
     "text": [
      "input [[0.61474167 0.83843963]]\n",
      "output: 1\n",
      "proper output: [1]\n"
     ]
    }
   ],
   "source": [
    "prediction = get_prediction(validate_x)[0]\n",
    "\n",
    "print('input', validate_x)\n",
    "print('output:', prediction)\n",
    "print('proper output:', validate_label)\n"
   ]
  },
  {
   "cell_type": "code",
   "execution_count": null,
   "metadata": {},
   "outputs": [],
   "source": []
  }
 ],
 "metadata": {
  "kernelspec": {
   "display_name": "Python 3",
   "language": "python",
   "name": "python3"
  },
  "language_info": {
   "codemirror_mode": {
    "name": "ipython",
    "version": 3
   },
   "file_extension": ".py",
   "mimetype": "text/x-python",
   "name": "python",
   "nbconvert_exporter": "python",
   "pygments_lexer": "ipython3",
   "version": "3.6.9"
  }
 },
 "nbformat": 4,
 "nbformat_minor": 4
}
